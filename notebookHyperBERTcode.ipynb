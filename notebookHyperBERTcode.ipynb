{
  "nbformat": 4,
  "nbformat_minor": 0,
  "metadata": {
    "colab": {
      "provenance": [],
      "include_colab_link": true
    },
    "kernelspec": {
      "name": "python3",
      "display_name": "Python 3"
    },
    "language_info": {
      "name": "python"
    }
  },
  "cells": [
    {
      "cell_type": "markdown",
      "metadata": {
        "id": "view-in-github",
        "colab_type": "text"
      },
      "source": [
        "<a href=\"https://colab.research.google.com/github/derejeweyessaa/learnwebservices/blob/master/notebookHyperBERTcode.ipynb\" target=\"_parent\"><img src=\"https://colab.research.google.com/assets/colab-badge.svg\" alt=\"Open In Colab\"/></a>"
      ]
    },
    {
      "cell_type": "code",
      "execution_count": null,
      "metadata": {
        "id": "Ghivtc7_FX8l"
      },
      "outputs": [],
      "source": [
        "\n",
        "#....Below is a  Python code that integrates hyperbolic embeddings\n",
        " with a BERT-based model for an interpretable ICD coding task using\n",
        "PyTorch, Hugging Face's Transformers, and Poincaré....#"
      ]
    },
    {
      "cell_type": "code",
      "source": [
        "Pip! install transformers"
      ],
      "metadata": {
        "id": "QalhnAOvSFiO"
      },
      "execution_count": null,
      "outputs": []
    },
    {
      "cell_type": "code",
      "source": [
        "Pip! Install PyTorch from Transformers,"
      ],
      "metadata": {
        "id": "GFA_kSovTTR8"
      },
      "execution_count": null,
      "outputs": []
    },
    {
      "cell_type": "code",
      "source": [
        "Pip! install Poincare ball"
      ],
      "metadata": {
        "id": "BX7INe4aTNWM"
      },
      "execution_count": null,
      "outputs": []
    },
    {
      "cell_type": "code",
      "source": [
        "import pandas as pd\n",
        "import torch\n",
        "import torch.nn as nn\n",
        "from torch.utils.data import DataLoader, Dataset\n",
        "from transformers import BertTokenizer, BertModel\n",
        "from poincare_embedding import PoincareModel\n",
        "from geomstats.optimization.optimizers import RiemannianAdam\n",
        "from sklearn.metrics.pairwise import cosine_similarity"
      ],
      "metadata": {
        "id": "5HNYAImbP5c0"
      },
      "execution_count": null,
      "outputs": []
    },
    {
      "cell_type": "code",
      "source": [
        "# Step 1: Data Preprocessing\n",
        "def preprocess_mimic_iii(data_path):\n",
        "    mimic_data = pd.read_csv(data_path)\n",
        "    mimic_data = mimic_data[['discharge_summary', 'icd_codes']]  # Filter relevant columns\n",
        "    mimic_data.dropna(inplace=True)  # Drop rows with missing values\n",
        "    train_data, val_data, test_data = split_data(mimic_data)  # Split the data into train, validation, and test sets\n",
        "    return train_data, val_data, test_data"
      ],
      "metadata": {
        "id": "Gbv2V7coFbcL"
      },
      "execution_count": null,
      "outputs": []
    },
    {
      "cell_type": "markdown",
      "source": [
        "# New Section"
      ],
      "metadata": {
        "id": "QUCWrU8VZXeH"
      }
    },
    {
      "cell_type": "code",
      "source": [
        "# Step 2: Hyperbolic Embedding Training\n",
        "def train_hyperbolic_embedding(icd_hierarchy):\n",
        "    poincare_model = PoincareModel()\n",
        "    poincare_optimizer = RiemannianAdam(poincare_model.parameters(), lr=0.001)\n",
        "\n",
        "    num_epochs_poincare = 5\n",
        "    for epoch in range(num_epochs_poincare):\n",
        "        poincare_model.train()\n",
        "        for icd_codes in icd_hierarchy:\n",
        "            poincare_optimizer.zero_grad()\n",
        "            poincare_loss = poincare_model.loss(icd_codes)\n",
        "            poincare_loss.backward()\n",
        "            poincare_optimizer.step()"
      ],
      "metadata": {
        "id": "vp8C4ISOFfW9"
      },
      "execution_count": null,
      "outputs": []
    },
    {
      "cell_type": "code",
      "source": [
        "# Step 3: BERT-based Representation\n",
        "def get_bert_embeddings(texts):\n",
        "    tokenizer = BertTokenizer.from_pretrained('bert-base-uncased')\n",
        "    model = BertModel.from_pretrained('bert-base-uncased')\n",
        "    inputs = tokenizer(texts, padding=True, truncation=True, return_tensors=\"pt\")\n",
        "    outputs = model(**inputs)\n",
        "    embeddings = outputs.last_hidden_state[:, 0, :]\n",
        "    return embeddings\n",
        "\n",
        "# Step 4: Integration and Multi-label Classification\n",
        "class HyperBertClassifier(nn.Module):\n",
        "    def __init__(self, bert_model, poincare_model, num_classes):\n",
        "        super(HyperBertClassifier, self).__init__()\n",
        "        self.bert_model = bert_model\n",
        "        self.poincare_model = poincare_model\n",
        "        self.linear = nn.Linear(bert_model.config.hidden_size + poincare_model.embedding_dim, num_classes)\n",
        "\n",
        "    def forward(self, input_ids, attention_mask):\n",
        "        bert_outputs = self.bert_model(input_ids=input_ids, attention_mask=attention_mask)\n",
        "        bert_embeddings = bert_outputs.last_hidden_state[:, 0, :]\n",
        "        poincare_embeddings = self.poincare_model.get_embeddings()  # Assuming you have a method to get embeddings\n",
        "        combined_embeddings = torch.cat((bert_embeddings, poincare_embeddings), dim=1)\n",
        "        logits = self.linear(combined_embeddings)\n",
        "        return logits"
      ],
      "metadata": {
        "id": "6UJFOObKHzoq"
      },
      "execution_count": null,
      "outputs": []
    },
    {
      "cell_type": "code",
      "source": [
        "# Step 5: Model Architecture\n",
        "class HyperBertModel(nn.Module):\n",
        "    def __init__(self, bert_model):\n",
        "        super(HyperBertModel, self).__init__()\n",
        "        self.bert_model = bert_model\n",
        "        self.fc = nn.Linear(bert_model.config.hidden_size, num_classes)\n",
        "\n",
        "    def forward(self, input_ids, attention_mask):\n",
        "        bert_output = self.bert_model(input_ids=input_ids, attention_mask=attention_mask)\n",
        "        logits = self.fc(bert_output.pooler_output)\n",
        "        return logits\n"
      ],
      "metadata": {
        "id": "aTA5pu1QFq1_"
      },
      "execution_count": null,
      "outputs": []
    },
    {
      "cell_type": "code",
      "source": [
        "# Step 6: Model Training\n",
        "def train_model(model, train_loader, criterion, optimizer, num_epochs, device):\n",
        "    model.train()\n",
        "    for epoch in range(num_epochs):\n",
        "        running_loss = 0.0\n",
        "        for batch in train_loader:\n",
        "            input_ids = batch['input_ids'].to(device)\n",
        "            attention_mask = batch['attention_mask'].to(device)\n",
        "            labels = batch['labels'].to(device)\n",
        "\n",
        "            optimizer.zero_grad()\n",
        "            outputs = model(input_ids, attention_mask)\n",
        "            loss = criterion(outputs, labels)\n",
        "            loss.backward()\n",
        "            optimizer.step()\n",
        "\n",
        "            running_loss += loss.item() * input_ids.size(0)\n",
        "\n",
        "        epoch_loss = running_loss / len(train_loader.dataset)\n",
        "        print(f\"Epoch {epoch+1}/{num_epochs}, Loss: {epoch_loss:.4f}\")"
      ],
      "metadata": {
        "id": "nmOVdGdUFyMX"
      },
      "execution_count": null,
      "outputs": []
    },
    {
      "cell_type": "code",
      "source": [
        "# Step 7: Evaluation\n",
        "def evaluate_model(model, dataloader, device):\n",
        "    model.eval()\n",
        "    all_preds = []\n",
        "    all_labels = []\n",
        "    with torch.no_grad():\n",
        "        for batch in dataloader:\n",
        "            input_ids = batch['input_ids'].to(device)\n",
        "            attention_mask = batch['attention_mask'].to(device)\n",
        "            labels = batch['labels'].to(device)\n",
        "\n",
        "            logits = model(input_ids, attention_mask)\n",
        "            preds = torch.argmax(logits, dim=1)\n",
        "            all_preds.extend(preds.cpu().tolist())\n",
        "            all_labels.extend(labels.cpu().tolist())\n",
        "\n",
        "    return all_labels, all_preds"
      ],
      "metadata": {
        "id": "FOhSZB94F3Z7"
      },
      "execution_count": null,
      "outputs": []
    },
    {
      "cell_type": "code",
      "source": [
        "\n",
        "\n",
        "# Step 7: Evaluation alternative\n",
        "def evaluate_model(model, dataloader, device):\n",
        "    model.eval()\n",
        "    all_preds = []\n",
        "    all_labels = []\n",
        "    with torch.no_grad():\n",
        "        for batch in dataloader:\n",
        "            input_ids = batch['input_ids'].to(device)\n",
        "            attention_mask = batch['attention_mask'].to(device)\n",
        "            labels = batch['labels'].to(device)\n",
        "\n",
        "            logits = model(input_ids, attention_mask)\n",
        "            preds = torch.argmax(logits, dim=1)\n",
        "            all_preds.extend(preds.cpu().tolist())\n",
        "            all_labels.extend(labels.cpu().tolist())\n",
        "\n",
        "    return all_labels, all_preds\n",
        "\n",
        "val_dataset = ICDDataSet('val.csv', tokenizer, max_length=128)\n",
        "val_dataloader = DataLoader(val_dataset, batch_size=32)\n",
        "\n",
        "test_dataset = ICDDataSet('test.csv', tokenizer, max_length=128)\n",
        "test_dataloader = DataLoader(test_dataset, batch_size=32)\n",
        "\n",
        "val_labels, val_preds = evaluate_model(model, val_dataloader, device)\n",
        "print(classification_report(val_labels, val_preds))\n",
        "val_auc_score = roc_auc_score(val_labels, val_preds)\n",
        "print(f'Validation AUC: {val_auc_score}')\n",
        "\n",
        "test_labels, test_preds = evaluate_model(model, test_dataloader, device)\n",
        "print(classification_report(test_labels, test_preds))\n",
        "test_auc_score = roc_auc_score(test_labels, test_preds)\n",
        "print(f'Test AUC: {test_auc_score}')"
      ],
      "metadata": {
        "id": "jil8LE97VwcN"
      },
      "execution_count": null,
      "outputs": []
    },
    {
      "cell_type": "code",
      "source": [
        " # Step 8: Fine-tuning Process\n",
        "def fine_tune_model(model, fine_tune_loader, criterion, optimizer, num_epochs, device):\n",
        "    model.train()\n",
        "    for epoch in range(num_epochs):\n",
        "        running_loss = 0.0\n",
        "        for batch in fine_tune_loader:\n",
        "            input_ids = batch['input_ids'].to(device)\n",
        "            attention_mask = batch['attention_mask'].to(device)\n",
        "            labels = batch['labels'].to(device)\n",
        "\n",
        "            optimizer.zero_grad()\n",
        "            outputs = model(input_ids, attention_mask)\n",
        "            loss = criterion(outputs, labels)\n",
        "            loss.backward()\n",
        "            optimizer.step()\n",
        "\n",
        "            running_loss += loss.item() * input_ids.size(0)\n",
        "\n",
        "        epoch_loss = running_loss / len(fine_tune_loader.dataset)\n",
        "        print(f\"Fine-tuning Epoch {epoch+1}/{num_epochs}, Loss: {epoch_loss:.4f}\")"
      ],
      "metadata": {
        "id": "u8pnY3bFF7rb"
      },
      "execution_count": null,
      "outputs": []
    },
    {
      "cell_type": "code",
      "source": [
        "# Step 9: Document-Code Similarity Prediction (if needed)\n",
        "def compute_similarity(document_embedding, code_embedding):\n",
        "    # Compute similarity in hyperbolic space\n",
        "    similarity_score = ...\n",
        "    return similarity_score"
      ],
      "metadata": {
        "id": "QMBJyK-dIrmW"
      },
      "execution_count": null,
      "outputs": []
    },
    {
      "cell_type": "code",
      "source": [
        "# Step 10: Code-wise Label Attention Visualization\n",
        "def visualize_attention(model, tokenizer, text):\n",
        "    inputs = tokenizer(text, return_tensors='pt')\n",
        "    input_ids = inputs['input_ids'].to(device)\n",
        "    attention_mask = inputs['attention_mask'].to(device)\n",
        "    with torch.no_grad():\n",
        "        outputs = model.bert_model(input_ids, attention_mask)\n",
        "        attentions = outputs['attentions'][-1]  # Get attention weights from the last layer\n",
        "   # Implement your attention visualization code here\n",
        "\n",
        "# Example usage of visualize_attention\n",
        "example_input_ids = torch.tensor([[101, 2045, 2003, 2025, 1996, 2051, 1012, 102]])\n",
        "example_attention_mask = torch.tensor([[1, 1, 1, 1, 1, 1, 1, 1]])\n",
        "attention_weights = visualize_attention(model, example_input_ids, example_attention_mask)\n",
        "print(attention_weights)"
      ],
      "metadata": {
        "id": "BluS-pn3F_qF"
      },
      "execution_count": null,
      "outputs": []
    },
    {
      "cell_type": "code",
      "source": [
        "\n",
        "# Main code\n",
        "#Load and preprocess MIMIC III dataset\n",
        "train_data, _, _ = preprocess_mimic_iv('your_dataset.csv')\n",
        "# Tokenize and encode discharge summaries\n",
        "tokenizer = BertTokenizer.from_pretrained('bert-base-uncased')\n",
        "encoded_inputs = tokenize_encode_discharge_summaries(train_data['discharge_summary'], toke\n",
        "# Assuming you have already defined num_classes and fine_tune_loader\n",
        "# Define your model architecture\n",
        "bert_model = BertModel.from_pretrained('bert-base-uncased')\n",
        "model = HyperBertModel(bert_model)\n",
        "# Set up optimizer and loss criterion\n",
        "optimizer = RiemannianAdam(model.parameters(), lr=0.001)\n",
        "criterion = nn.CrossEntropyLoss()\n",
        "# Train the model\n",
        "device = torch.device('cuda' if torch.cuda.is_available() else 'cpu')\n",
        "train_loader = DataLoader(train_dataset, batch_size=16, shuffle=True)\n",
        "num_epochs = 5\n",
        "train_model(model, train_loader, criterion, optimizer, num_epochs, device)\n",
        "# Fine-tune the model\n",
        "fine_tune_model(model, fine_tune_loader, criterion, optimizer, num_epochs, device)\n",
        "# Visualize code-wise label attention\n",
        "visualize_attention(model, tokenizer, text)"
      ],
      "metadata": {
        "id": "-1IBh1ydGD37"
      },
      "execution_count": null,
      "outputs": []
    }
  ]
}